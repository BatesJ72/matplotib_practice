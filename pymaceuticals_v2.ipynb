{
 "cells": [
  {
   "cell_type": "markdown",
   "metadata": {},
   "source": [
    "## Observations and Insights "
   ]
  },
  {
   "cell_type": "code",
   "execution_count": 1,
   "metadata": {},
   "outputs": [],
   "source": [
    "%load_ext lab_black"
   ]
  },
  {
   "cell_type": "code",
   "execution_count": 2,
   "metadata": {},
   "outputs": [
    {
     "data": {
      "text/plain": [
       "(1893, 8)"
      ]
     },
     "execution_count": 2,
     "metadata": {},
     "output_type": "execute_result"
    }
   ],
   "source": [
    "# Dependencies and Setup\n",
    "import matplotlib.pyplot as plt\n",
    "import pandas as pd\n",
    "import scipy.stats as st\n",
    "\n",
    "# Study data files\n",
    "mouse_metadata_path = \"data/Mouse_metadata.csv\"\n",
    "study_results_path = \"data/Study_results.csv\"\n",
    "\n",
    "# Read the mouse data and the study results\n",
    "mouse_metadata = pd.read_csv(mouse_metadata_path)\n",
    "study_results = pd.read_csv(study_results_path)\n",
    "\n",
    "# Combine the data into a single dataset\n",
    "df = pd.merge(mouse_metadata, study_results, how=\"outer\", on=\"Mouse ID\")\n",
    "\n",
    "## why can't i string all these replaces together?\n",
    "# Reformat column headers\n",
    "df = df.rename(\n",
    "    columns=lambda header_str: header_str.lower()\n",
    "    .replace(\" \", \"_\")\n",
    "    .replace(\")\", \"\")\n",
    "    .replace(\"(\", \"\")\n",
    ")\n",
    "\n",
    "# df[\"mouseid\"] = df[\"mouse_id\"]\n",
    "\n",
    "# Display the data table for preview\n",
    "# df.head()\n",
    "df.shape"
   ]
  },
  {
   "cell_type": "code",
   "execution_count": 3,
   "metadata": {},
   "outputs": [],
   "source": [
    "# Checking the number of mice.\n",
    "\n",
    "df = df.drop_duplicates()\n",
    "\n",
    "# get only the columns i need\n",
    "df_minimized = df[[\"mouse_id\", \"timepoint\", \"drug_regimen\"]]\n",
    "\n",
    "# add in a count\n",
    "df_count = (\n",
    "    df_minimized.groupby(by=[\"mouse_id\", \"timepoint\", \"drug_regimen\"])[\"mouse_id\"]\n",
    "    .count()\n",
    "    .reset_index(name=\"count\")\n",
    ")\n",
    "# print(df_count3)"
   ]
  },
  {
   "cell_type": "code",
   "execution_count": 4,
   "metadata": {},
   "outputs": [
    {
     "data": {
      "text/html": [
       "<div>\n",
       "<style scoped>\n",
       "    .dataframe tbody tr th:only-of-type {\n",
       "        vertical-align: middle;\n",
       "    }\n",
       "\n",
       "    .dataframe tbody tr th {\n",
       "        vertical-align: top;\n",
       "    }\n",
       "\n",
       "    .dataframe thead th {\n",
       "        text-align: right;\n",
       "    }\n",
       "</style>\n",
       "<table border=\"1\" class=\"dataframe\">\n",
       "  <thead>\n",
       "    <tr style=\"text-align: right;\">\n",
       "      <th></th>\n",
       "      <th>mouse_id</th>\n",
       "      <th>timepoint</th>\n",
       "      <th>drug_regimen</th>\n",
       "      <th>count</th>\n",
       "    </tr>\n",
       "  </thead>\n",
       "  <tbody>\n",
       "    <tr>\n",
       "      <th>587</th>\n",
       "      <td>g989</td>\n",
       "      <td>5</td>\n",
       "      <td>Propriva</td>\n",
       "      <td>2</td>\n",
       "    </tr>\n",
       "    <tr>\n",
       "      <th>588</th>\n",
       "      <td>g989</td>\n",
       "      <td>10</td>\n",
       "      <td>Propriva</td>\n",
       "      <td>2</td>\n",
       "    </tr>\n",
       "    <tr>\n",
       "      <th>589</th>\n",
       "      <td>g989</td>\n",
       "      <td>15</td>\n",
       "      <td>Propriva</td>\n",
       "      <td>2</td>\n",
       "    </tr>\n",
       "    <tr>\n",
       "      <th>590</th>\n",
       "      <td>g989</td>\n",
       "      <td>20</td>\n",
       "      <td>Propriva</td>\n",
       "      <td>2</td>\n",
       "    </tr>\n",
       "  </tbody>\n",
       "</table>\n",
       "</div>"
      ],
      "text/plain": [
       "    mouse_id  timepoint drug_regimen  count\n",
       "587     g989          5     Propriva      2\n",
       "588     g989         10     Propriva      2\n",
       "589     g989         15     Propriva      2\n",
       "590     g989         20     Propriva      2"
      ]
     },
     "execution_count": 4,
     "metadata": {},
     "output_type": "execute_result"
    }
   ],
   "source": [
    "# Optional: Get all the data for the duplicate mouse ID.\n",
    "\n",
    "# list of mice with duplicate values\n",
    "df_count[df_count[\"count\"] > 1].sort_values(by=\"timepoint\")"
   ]
  },
  {
   "cell_type": "code",
   "execution_count": 5,
   "metadata": {},
   "outputs": [],
   "source": [
    "# Create a clean DataFrame by dropping the duplicate mouse by its ID.\n",
    "\n",
    "df = df[df.mouse_id != \"g989\"]"
   ]
  },
  {
   "cell_type": "code",
   "execution_count": 18,
   "metadata": {},
   "outputs": [
    {
     "data": {
      "text/html": [
       "<div>\n",
       "<style scoped>\n",
       "    .dataframe tbody tr th:only-of-type {\n",
       "        vertical-align: middle;\n",
       "    }\n",
       "\n",
       "    .dataframe tbody tr th {\n",
       "        vertical-align: top;\n",
       "    }\n",
       "\n",
       "    .dataframe thead th {\n",
       "        text-align: right;\n",
       "    }\n",
       "</style>\n",
       "<table border=\"1\" class=\"dataframe\">\n",
       "  <thead>\n",
       "    <tr style=\"text-align: right;\">\n",
       "      <th></th>\n",
       "      <th>mouse_id</th>\n",
       "      <th>drug_regimen</th>\n",
       "      <th>sex</th>\n",
       "      <th>age_months</th>\n",
       "      <th>weight_g</th>\n",
       "      <th>timepoint</th>\n",
       "      <th>tumor_volume_mm3</th>\n",
       "      <th>metastatic_sites</th>\n",
       "    </tr>\n",
       "  </thead>\n",
       "  <tbody>\n",
       "    <tr>\n",
       "      <th>0</th>\n",
       "      <td>k403</td>\n",
       "      <td>Ramicane</td>\n",
       "      <td>Male</td>\n",
       "      <td>21</td>\n",
       "      <td>16</td>\n",
       "      <td>0</td>\n",
       "      <td>45.000000</td>\n",
       "      <td>0</td>\n",
       "    </tr>\n",
       "    <tr>\n",
       "      <th>1</th>\n",
       "      <td>k403</td>\n",
       "      <td>Ramicane</td>\n",
       "      <td>Male</td>\n",
       "      <td>21</td>\n",
       "      <td>16</td>\n",
       "      <td>5</td>\n",
       "      <td>38.825898</td>\n",
       "      <td>0</td>\n",
       "    </tr>\n",
       "    <tr>\n",
       "      <th>2</th>\n",
       "      <td>k403</td>\n",
       "      <td>Ramicane</td>\n",
       "      <td>Male</td>\n",
       "      <td>21</td>\n",
       "      <td>16</td>\n",
       "      <td>10</td>\n",
       "      <td>35.014271</td>\n",
       "      <td>1</td>\n",
       "    </tr>\n",
       "    <tr>\n",
       "      <th>3</th>\n",
       "      <td>k403</td>\n",
       "      <td>Ramicane</td>\n",
       "      <td>Male</td>\n",
       "      <td>21</td>\n",
       "      <td>16</td>\n",
       "      <td>15</td>\n",
       "      <td>34.223992</td>\n",
       "      <td>1</td>\n",
       "    </tr>\n",
       "    <tr>\n",
       "      <th>4</th>\n",
       "      <td>k403</td>\n",
       "      <td>Ramicane</td>\n",
       "      <td>Male</td>\n",
       "      <td>21</td>\n",
       "      <td>16</td>\n",
       "      <td>20</td>\n",
       "      <td>32.997729</td>\n",
       "      <td>1</td>\n",
       "    </tr>\n",
       "  </tbody>\n",
       "</table>\n",
       "</div>"
      ],
      "text/plain": [
       "  mouse_id drug_regimen   sex  age_months  weight_g  timepoint  \\\n",
       "0     k403     Ramicane  Male          21        16          0   \n",
       "1     k403     Ramicane  Male          21        16          5   \n",
       "2     k403     Ramicane  Male          21        16         10   \n",
       "3     k403     Ramicane  Male          21        16         15   \n",
       "4     k403     Ramicane  Male          21        16         20   \n",
       "\n",
       "   tumor_volume_mm3  metastatic_sites  \n",
       "0         45.000000                 0  \n",
       "1         38.825898                 0  \n",
       "2         35.014271                 1  \n",
       "3         34.223992                 1  \n",
       "4         32.997729                 1  "
      ]
     },
     "execution_count": 18,
     "metadata": {},
     "output_type": "execute_result"
    }
   ],
   "source": [
    "# Checking the number of mice in the clean DataFrame.\n",
    "\n",
    "df.head()\n",
    "\n",
    "# df[df[\"mouse_id\"] == \"g989\"].sort_values(by=\"timepoint\")\n",
    "\n",
    "# df.shape\n",
    "\n",
    "# df[df[\"count\"] > 1].sort_values(by=\"timepoint\")\n",
    "\n",
    "# df.sort_values(by=\"count\")"
   ]
  },
  {
   "cell_type": "markdown",
   "metadata": {},
   "source": [
    "## Summary Statistics"
   ]
  },
  {
   "cell_type": "code",
   "execution_count": 110,
   "metadata": {},
   "outputs": [
    {
     "name": "stdout",
     "output_type": "stream",
     "text": [
      "              age_months   weight_g  timepoint  tumor_volume_mm3  \\\n",
      "drug_regimen                                                       \n",
      "Capomulin      13.456522  19.965217  21.565217         40.675741   \n",
      "Ceftamin       13.247191  27.398876  19.747191         52.591172   \n",
      "Infubinol      16.230337  27.196629  18.174157         52.884795   \n",
      "Ketapril       15.659574  27.861702  19.707447         55.235638   \n",
      "Naftisol       12.000000  27.166667  19.623656         54.331565   \n",
      "Placebo        10.734807  27.928177  18.674033         54.033581   \n",
      "Propriva       10.006757  27.135135  17.060811         52.320930   \n",
      "Ramicane       10.684211  19.679825  21.425439         40.216745   \n",
      "Stelasyn       12.784530  27.856354  19.226519         54.233149   \n",
      "Zoniferol      12.598901  27.692308  19.368132         53.236507   \n",
      "\n",
      "              metastatic_sites  regimen_count  \n",
      "drug_regimen                                   \n",
      "Capomulin             0.713043            NaN  \n",
      "Ceftamin              1.179775            NaN  \n",
      "Infubinol             0.960674            NaN  \n",
      "Ketapril              1.297872            NaN  \n",
      "Naftisol              1.182796            NaN  \n",
      "Placebo               1.441989            NaN  \n",
      "Propriva              1.013514            NaN  \n",
      "Ramicane              0.548246            NaN  \n",
      "Stelasyn              0.872928            NaN  \n",
      "Zoniferol             1.230769            NaN  \n",
      "(10, 6)\n"
     ]
    },
    {
     "data": {
      "text/html": [
       "<div>\n",
       "<style scoped>\n",
       "    .dataframe tbody tr th:only-of-type {\n",
       "        vertical-align: middle;\n",
       "    }\n",
       "\n",
       "    .dataframe tbody tr th {\n",
       "        vertical-align: top;\n",
       "    }\n",
       "\n",
       "    .dataframe thead th {\n",
       "        text-align: right;\n",
       "    }\n",
       "</style>\n",
       "<table border=\"1\" class=\"dataframe\">\n",
       "  <thead>\n",
       "    <tr style=\"text-align: right;\">\n",
       "      <th></th>\n",
       "      <th>Mean</th>\n",
       "      <th>Median</th>\n",
       "      <th>Variance</th>\n",
       "      <th>Standard Deviation</th>\n",
       "      <th>SEM</th>\n",
       "    </tr>\n",
       "    <tr>\n",
       "      <th>drug_regimen</th>\n",
       "      <th></th>\n",
       "      <th></th>\n",
       "      <th></th>\n",
       "      <th></th>\n",
       "      <th></th>\n",
       "    </tr>\n",
       "  </thead>\n",
       "  <tbody>\n",
       "    <tr>\n",
       "      <th>Capomulin</th>\n",
       "      <td>40.675741</td>\n",
       "      <td>41.557809</td>\n",
       "      <td>24.947764</td>\n",
       "      <td>4.994774</td>\n",
       "      <td>0.329346</td>\n",
       "    </tr>\n",
       "    <tr>\n",
       "      <th>Ceftamin</th>\n",
       "      <td>52.591172</td>\n",
       "      <td>51.776157</td>\n",
       "      <td>39.290177</td>\n",
       "      <td>6.268188</td>\n",
       "      <td>0.469821</td>\n",
       "    </tr>\n",
       "    <tr>\n",
       "      <th>Infubinol</th>\n",
       "      <td>52.884795</td>\n",
       "      <td>51.820584</td>\n",
       "      <td>43.128684</td>\n",
       "      <td>6.567243</td>\n",
       "      <td>0.492236</td>\n",
       "    </tr>\n",
       "    <tr>\n",
       "      <th>Ketapril</th>\n",
       "      <td>55.235638</td>\n",
       "      <td>53.698743</td>\n",
       "      <td>68.553577</td>\n",
       "      <td>8.279709</td>\n",
       "      <td>0.603860</td>\n",
       "    </tr>\n",
       "    <tr>\n",
       "      <th>Naftisol</th>\n",
       "      <td>54.331565</td>\n",
       "      <td>52.509285</td>\n",
       "      <td>66.173479</td>\n",
       "      <td>8.134708</td>\n",
       "      <td>0.596466</td>\n",
       "    </tr>\n",
       "    <tr>\n",
       "      <th>Placebo</th>\n",
       "      <td>54.033581</td>\n",
       "      <td>52.288934</td>\n",
       "      <td>61.168083</td>\n",
       "      <td>7.821003</td>\n",
       "      <td>0.581331</td>\n",
       "    </tr>\n",
       "    <tr>\n",
       "      <th>Propriva</th>\n",
       "      <td>52.320930</td>\n",
       "      <td>50.446266</td>\n",
       "      <td>43.852013</td>\n",
       "      <td>6.622085</td>\n",
       "      <td>0.544332</td>\n",
       "    </tr>\n",
       "    <tr>\n",
       "      <th>Ramicane</th>\n",
       "      <td>40.216745</td>\n",
       "      <td>40.673236</td>\n",
       "      <td>23.486704</td>\n",
       "      <td>4.846308</td>\n",
       "      <td>0.320955</td>\n",
       "    </tr>\n",
       "    <tr>\n",
       "      <th>Stelasyn</th>\n",
       "      <td>54.233149</td>\n",
       "      <td>52.431737</td>\n",
       "      <td>59.450562</td>\n",
       "      <td>7.710419</td>\n",
       "      <td>0.573111</td>\n",
       "    </tr>\n",
       "    <tr>\n",
       "      <th>Zoniferol</th>\n",
       "      <td>53.236507</td>\n",
       "      <td>51.818479</td>\n",
       "      <td>48.533355</td>\n",
       "      <td>6.966589</td>\n",
       "      <td>0.516398</td>\n",
       "    </tr>\n",
       "  </tbody>\n",
       "</table>\n",
       "</div>"
      ],
      "text/plain": [
       "                   Mean     Median   Variance  Standard Deviation       SEM\n",
       "drug_regimen                                                               \n",
       "Capomulin     40.675741  41.557809  24.947764            4.994774  0.329346\n",
       "Ceftamin      52.591172  51.776157  39.290177            6.268188  0.469821\n",
       "Infubinol     52.884795  51.820584  43.128684            6.567243  0.492236\n",
       "Ketapril      55.235638  53.698743  68.553577            8.279709  0.603860\n",
       "Naftisol      54.331565  52.509285  66.173479            8.134708  0.596466\n",
       "Placebo       54.033581  52.288934  61.168083            7.821003  0.581331\n",
       "Propriva      52.320930  50.446266  43.852013            6.622085  0.544332\n",
       "Ramicane      40.216745  40.673236  23.486704            4.846308  0.320955\n",
       "Stelasyn      54.233149  52.431737  59.450562            7.710419  0.573111\n",
       "Zoniferol     53.236507  51.818479  48.533355            6.966589  0.516398"
      ]
     },
     "execution_count": 110,
     "metadata": {},
     "output_type": "execute_result"
    }
   ],
   "source": [
    "# Generate a summary statistics table of mean, median, variance, standard deviation, and SEM of the tumor volume for each regimen\n",
    "# This method is the most straighforward, creating multiple series and putting them all together at the end.\n",
    "\n",
    "\n",
    "# Get only the data I need for this\n",
    "df_regimen = df[[\"drug_regimen\", \"tumor_volume_mm3\"]]\n",
    "# print(df_regimen)\n",
    "\n",
    "# how many regimens?\n",
    "regimen_count = len(df_regimen[\"drug_regimen\"].unique())\n",
    "# print(f\"There are {regimen_count} regimens\")\n",
    "\n",
    "# get the mean\n",
    "regimen_mean = df.groupby(by=[\"drug_regimen\"]).mean()\n",
    "print(regimen_mean)\n",
    "\n",
    "# get the median\n",
    "regimen_median = df.groupby(by=[\"drug_regimen\"]).median()\n",
    "print(regimen_median.shape)\n",
    "\n",
    "# get the variance\n",
    "regimen_variance = df.groupby(by=[\"drug_regimen\"]).var()\n",
    "# print(regimen_variance.shape)\n",
    "\n",
    "# get the standard deviation\n",
    "regimen_standdev = df.groupby(by=[\"drug_regimen\"]).std()\n",
    "# print(regimen_standdev.shape)\n",
    "# print(regimen_standdev)\n",
    "\n",
    "# get the SEM\n",
    "regimen_sem = df.groupby(by=[\"drug_regimen\"]).sem()\n",
    "# print(regimen_sem.shape)\n",
    "\n",
    "##why am i getting this error?\n",
    "# put them all together\n",
    "pd.DataFrame(\n",
    "    {\n",
    "        \"Mean\": regimen_mean[\"tumor_volume_mm3\"],\n",
    "        \"Median\": regimen_median[\"tumor_volume_mm3\"],\n",
    "        \"Variance\": regimen_variance[\"tumor_volume_mm3\"],\n",
    "        \"Standard Deviation\": regimen_standdev[\"tumor_volume_mm3\"],\n",
    "        \"SEM\": regimen_sem[\"tumor_volume_mm3\"],\n",
    "    },\n",
    ")"
   ]
  },
  {
   "cell_type": "code",
   "execution_count": 116,
   "metadata": {},
   "outputs": [
    {
     "name": "stdout",
     "output_type": "stream",
     "text": [
      "             tumor_volume_mm3                                          \n",
      "                         mean     median        var       std       sem\n",
      "drug_regimen                                                           \n",
      "Capomulin           40.675741  41.557809  24.947764  4.994774  0.329346\n",
      "Ceftamin            52.591172  51.776157  39.290177  6.268188  0.469821\n",
      "Infubinol           52.884795  51.820584  43.128684  6.567243  0.492236\n",
      "Ketapril            55.235638  53.698743  68.553577  8.279709  0.603860\n",
      "Naftisol            54.331565  52.509285  66.173479  8.134708  0.596466\n",
      "Placebo             54.033581  52.288934  61.168083  7.821003  0.581331\n",
      "Propriva            52.320930  50.446266  43.852013  6.622085  0.544332\n",
      "Ramicane            40.216745  40.673236  23.486704  4.846308  0.320955\n",
      "Stelasyn            54.233149  52.431737  59.450562  7.710419  0.573111\n",
      "Zoniferol           53.236507  51.818479  48.533355  6.966589  0.516398\n"
     ]
    }
   ],
   "source": [
    "# Generate a summary statistics table of mean, median, variance, standard deviation, and SEM of the tumor volume for each regimen\n",
    "# This method produces everything in a single groupby function\n",
    "\n",
    "# get the summary data\n",
    "regimen_summary = df.groupby(by=[\"drug_regimen\"]).aggregate(\n",
    "    {\"tumor_volume_mm3\": [\"mean\", \"median\", \"var\", \"std\", \"sem\"]}\n",
    ")\n",
    "\n",
    "print(regimen_summary)"
   ]
  },
  {
   "cell_type": "markdown",
   "metadata": {},
   "source": [
    "## Bar and Pie Charts"
   ]
  },
  {
   "cell_type": "code",
   "execution_count": 93,
   "metadata": {},
   "outputs": [
    {
     "data": {
      "text/plain": [
       "<AxesSubplot:>"
      ]
     },
     "execution_count": 93,
     "metadata": {},
     "output_type": "execute_result"
    },
    {
     "data": {
      "image/png": "[encoded data removed]",
      "text/plain": [
       "<Figure size 432x288 with 1 Axes>"
      ]
     },
     "metadata": {
      "needs_background": "light"
     },
     "output_type": "display_data"
    }
   ],
   "source": [
    "# Generate a bar plot showing the total number of mice for each treatment throughout the course of the study using pandas.\n",
    "\n",
    "df_count_bar = (\n",
    "    df_minimized.groupby(by=[\"drug_regimen\"])[\"mouse_id\"]\n",
    "    .count()\n",
    "    .reset_index(name=\"count\")\n",
    ")\n",
    "# print(df_count_bar)\n",
    "\n",
    "df_count_bar.plot.bar()"
   ]
  },
  {
   "cell_type": "code",
   "execution_count": 89,
   "metadata": {},
   "outputs": [
    {
     "data": {
      "text/plain": [
       "<function matplotlib.pyplot.show(close=None, block=None)>"
      ]
     },
     "execution_count": 89,
     "metadata": {},
     "output_type": "execute_result"
    },
    {
     "data": {
      "image/png": "[encoded data removed]",
      "text/plain": [
       "<Figure size 432x288 with 1 Axes>"
      ]
     },
     "metadata": {
      "needs_background": "light"
     },
     "output_type": "display_data"
    }
   ],
   "source": [
    "# Generate a bar plot showing the total number of mice for each treatment throughout the course of the study using pyplot.\n",
    "\n",
    "# df[\"drug_regimen\"].unique()\n",
    "\n",
    "# Ramicane = 0\n",
    "# Capomulin = 0\n",
    "# Infubinol = 0\n",
    "# Placebo = 0\n",
    "# Ceftamin = 0\n",
    "# Stelasyn = 0\n",
    "# Zoniferol = 0\n",
    "# Ketapril = 0\n",
    "# Propriva = 0\n",
    "# Naftisol = 0\n",
    "\n",
    "\n",
    "# def drug_count(i):\n",
    "#     for i in df:\n",
    "#         if df[\"drug_regimen\"] == \"Ramicane\":\n",
    "#             Ramicane += 1\n",
    "#         elif df[\"drug_regimen\"] == \"Capomulin\":\n",
    "#             Capomulin += 1\n",
    "#         elif df[\"drug_regimen\"] == \"Infubinol\":\n",
    "#             Infubinol += 1\n",
    "#         elif df[\"drug_regimen\"] == \"Placebo\":\n",
    "#             Placebo += 1\n",
    "#         elif df[\"drug_regimen\"] == \"Ceftamin\":\n",
    "#             Ceftamin += 1\n",
    "#         elif df[\"drug_regimen\"] == \"Stelasyn\":\n",
    "#             Stelasyn += 1\n",
    "#         elif df[\"drug_regimen\"] == \"Zoniferol\":\n",
    "#             Zoniferol += 1\n",
    "#         elif df[\"drug_regimen\"] == \"Ketapril\":\n",
    "#             Ketapril += 1\n",
    "#         elif df[\"drug_regimen\"] == \"Propriva\":\n",
    "#             Propriva += 1\n",
    "#         else:\n",
    "#             Naftisol += 1\n",
    "#     print(\n",
    "#             Ramicane,\n",
    "#             Capomulin,\n",
    "#             Infubinol,\n",
    "#             Placebo,\n",
    "#             Ceftamin,\n",
    "#             Stelasyn,\n",
    "#             Zoniferol,\n",
    "#             Ketapril,\n",
    "#             Propriva,\n",
    "#             Naftisol,\n",
    "#             )\n",
    "\n",
    "\n",
    "# drug_count(df)\n",
    "\n",
    "\n",
    "df_count_bar = (\n",
    "    df_minimized.groupby(by=[\"drug_regimen\"])[\"mouse_id\"]\n",
    "    .count()\n",
    "    .reset_index(name=\"count\")\n",
    ")\n",
    "# print(df_count_bar)\n",
    "\n",
    "plt.bar(df_count_bar[\"drug_regimen\"], df_count_bar[\"count\"])\n",
    "plt.show"
   ]
  },
  {
   "cell_type": "code",
   "execution_count": null,
   "metadata": {},
   "outputs": [],
   "source": [
    "# Generate a pie plot showing the distribution of female versus male mice using pandas\n",
    "\n"
   ]
  },
  {
   "cell_type": "code",
   "execution_count": null,
   "metadata": {},
   "outputs": [],
   "source": [
    "# Generate a pie plot showing the distribution of female versus male mice using pyplot\n",
    "\n",
    "labels = \"m\"\n"
   ]
  },
  {
   "cell_type": "markdown",
   "metadata": {},
   "source": [
    "## Quartiles, Outliers and Boxplots"
   ]
  },
  {
   "cell_type": "code",
   "execution_count": null,
   "metadata": {},
   "outputs": [],
   "source": [
    "# Calculate the final tumor volume of each mouse across four of the treatment regimens:  \n",
    "# Capomulin, Ramicane, Infubinol, and Ceftamin\n",
    "\n",
    "# Start by getting the last (greatest) timepoint for each mouse\n",
    "\n",
    "\n",
    "# Merge this group df with the original dataframe to get the tumor volume at the last timepoint\n"
   ]
  },
  {
   "cell_type": "code",
   "execution_count": null,
   "metadata": {},
   "outputs": [],
   "source": [
    "# Put treatments into a list for for loop (and later for plot labels)\n",
    "\n",
    "\n",
    "# Create empty list to fill with tumor vol data (for plotting)\n",
    "\n",
    "\n",
    "# Calculate the IQR and quantitatively determine if there are any potential outliers. \n",
    "\n",
    "    \n",
    "    # Locate the rows which contain mice on each drug and get the tumor volumes\n",
    "    \n",
    "    \n",
    "    # add subset \n",
    "    \n",
    "    \n",
    "    # Determine outliers using upper and lower bounds\n",
    "    "
   ]
  },
  {
   "cell_type": "code",
   "execution_count": null,
   "metadata": {},
   "outputs": [],
   "source": [
    "# Generate a box plot of the final tumor volume of each mouse across four regimens of interest\n"
   ]
  },
  {
   "cell_type": "markdown",
   "metadata": {},
   "source": [
    "## Line and Scatter Plots"
   ]
  },
  {
   "cell_type": "code",
   "execution_count": 65,
   "metadata": {},
   "outputs": [
    {
     "data": {
      "text/plain": [
       "<function matplotlib.pyplot.show(close=None, block=None)>"
      ]
     },
     "execution_count": 65,
     "metadata": {},
     "output_type": "execute_result"
    },
    {
     "data": {
      "image/png": "[encoded data removed]",
      "text/plain": [
       "<Figure size 432x288 with 1 Axes>"
      ]
     },
     "metadata": {
      "needs_background": "light"
     },
     "output_type": "display_data"
    }
   ],
   "source": [
    "# Generate a line plot of time point versus tumor volume for a mouse treated with Capomulin\n",
    "\n",
    "# Narrow down list to one mouse\n",
    "df_capo = df[df[\"drug_regimen\"] == \"Capomulin\"]\n",
    "# print(df_capo)\n",
    "df_capo1 = df[df[\"mouse_id\"] == \"s185\"]\n",
    "# print(df_capo1)\n",
    "\n",
    "# Plot data\n",
    "plt.plot(df_capo1[\"timepoint\"], df_capo1[\"tumor_volume_mm3\"])\n",
    "plt.show"
   ]
  },
  {
   "cell_type": "code",
   "execution_count": 83,
   "metadata": {},
   "outputs": [
    {
     "data": {
      "text/plain": [
       "<function matplotlib.pyplot.show(close=None, block=None)>"
      ]
     },
     "execution_count": 83,
     "metadata": {},
     "output_type": "execute_result"
    },
    {
     "data": {
      "image/png": "[encoded data removed]",
      "text/plain": [
       "<Figure size 432x288 with 1 Axes>"
      ]
     },
     "metadata": {
      "needs_background": "light"
     },
     "output_type": "display_data"
    }
   ],
   "source": [
    "# Generate a scatter plot of mouse weight versus average tumor volume for the Capomulin regimen\n",
    "df_capo_vol = df_capo.groupby(by=[\"mouse_id\"]).mean()\n",
    "# df_capo_vol\n",
    "\n",
    "plt.scatter(df_capo_vol[\"tumor_volume_mm3\"], df_capo_vol[\"weight_g\"])\n",
    "plt.show\n",
    "\n",
    "# df_capo"
   ]
  },
  {
   "cell_type": "code",
   "execution_count": null,
   "metadata": {},
   "outputs": [],
   "source": [
    "# Calculate the correlation coefficient and linear regression model \n",
    "# for mouse weight and average tumor volume for the Capomulin regimen\n"
   ]
  },
  {
   "cell_type": "code",
   "execution_count": null,
   "metadata": {},
   "outputs": [],
   "source": []
  }
 ],
 "metadata": {
  "anaconda-cloud": {},
  "environment": {
   "name": "common-cpu.m54",
   "type": "gcloud",
   "uri": "gcr.io/deeplearning-platform-release/base-cpu:m54"
  },
  "kernelspec": {
   "display_name": "Python 3",
   "language": "python",
   "name": "python3"
  },
  "language_info": {
   "codemirror_mode": {
    "name": "ipython",
    "version": 3
   },
   "file_extension": ".py",
   "mimetype": "text/x-python",
   "name": "python",
   "nbconvert_exporter": "python",
   "pygments_lexer": "ipython3",
   "version": "3.7.8"
  }
 },
 "nbformat": 4,
 "nbformat_minor": 4
}
