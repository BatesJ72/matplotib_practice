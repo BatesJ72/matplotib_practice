{
 "cells": [
  {
   "cell_type": "markdown",
   "metadata": {},
   "source": [
    "## Observations and Insights "
   ]
  },
  {
   "cell_type": "code",
   "execution_count": 1,
   "metadata": {},
   "outputs": [],
   "source": [
    "%load_ext lab_black"
   ]
  },
  {
   "cell_type": "code",
   "execution_count": 2,
   "metadata": {},
   "outputs": [
    {
     "data": {
      "text/plain": [
       "(1893, 8)"
      ]
     },
     "execution_count": 2,
     "metadata": {},
     "output_type": "execute_result"
    }
   ],
   "source": [
    "# Dependencies and Setup\n",
    "import matplotlib.pyplot as plt\n",
    "import pandas as pd\n",
    "import scipy.stats as st\n",
    "\n",
    "# Study data files\n",
    "mouse_metadata_path = \"data/Mouse_metadata.csv\"\n",
    "study_results_path = \"data/Study_results.csv\"\n",
    "\n",
    "# Read the mouse data and the study results\n",
    "mouse_metadata = pd.read_csv(mouse_metadata_path)\n",
    "study_results = pd.read_csv(study_results_path)\n",
    "\n",
    "# Combine the data into a single dataset\n",
    "df = pd.merge(mouse_metadata, study_results, how=\"outer\", on=\"Mouse ID\")\n",
    "\n",
    "## why can't i string all these replaces together?\n",
    "# Reformat column headers\n",
    "df = df.rename(\n",
    "    columns=lambda header_str: header_str.lower()\n",
    "    .replace(\" \", \"_\")\n",
    "    .replace(\")\", \"\")\n",
    "    .replace(\"(\", \"\")\n",
    ")\n",
    "\n",
    "# df[\"mouseid\"] = df[\"mouse_id\"]\n",
    "\n",
    "# Display the data table for preview\n",
    "# df.head()\n",
    "df.shape"
   ]
  },
  {
   "cell_type": "code",
   "execution_count": 3,
   "metadata": {},
   "outputs": [],
   "source": [
    "# Checking the number of mice.\n",
    "# id_count = df[\"mouse_id\"].value_counts()\n",
    "\n",
    "# id_count = id_count.filter(items = \"1\", axis = 1)\n",
    "# print(id_count)\n",
    "\n",
    "# df[\"id_count\"] = id_count\n",
    "# print(id_count)\n",
    "\n",
    "# df.head()\n",
    "\n",
    "# lst = []\n",
    "\n",
    "# def count_function(i):\n",
    "#     for i in df[\"id_count\"]:\n",
    "#         if i == 1:\n",
    "#             lst.append(df[\"mouse_id\"])\n",
    "#     return lst\n",
    "\n",
    "# data = [[count_function(i)] for i in df]\n",
    "# # data.head()\n",
    "# print(data)\n",
    "\n",
    "\n",
    "##why is one column header higher than the others?\n",
    "\n",
    "# # get only the columns i need\n",
    "# df_count = df[[\"mouse_id\", \"timepoint\", \"drug_regimen\"]]\n",
    "# # print(df_count)\n",
    "# df_count2 = df_count.groupby(by=[\"mouse_id\", \"timepoint\"]).count()\n",
    "# df_count2\n",
    "# print(df_count2)\n",
    "# print(df_count2.dtypes)\n",
    "# df[df[\"drug_regimen\"] == 5]"
   ]
  },
  {
   "cell_type": "code",
   "execution_count": 4,
   "metadata": {},
   "outputs": [],
   "source": [
    "# # get only the columns i need\n",
    "# df_count = df[[\"mouse_id\", \"timepoint\", \"drug_regimen\"]]\n",
    "# # print(df_count)\n",
    "# df_count2 = df_count.groupby(by=[\"mouse_id\", \"timepoint\"]).count()\n",
    "# df_count2\n",
    "\n",
    "# df_count3 = (\n",
    "#     df_count.groupby(by=[\"mouse_id\", \"timepoint\"])[\"drug_regimen\"]\n",
    "#     .count()\n",
    "#     .reset_index(name=\"count\")\n",
    "# )\n",
    "# # print(df_count3)\n",
    "# print(df.shape)\n",
    "# print(df_count3.shape)\n",
    "\n",
    "# df_maybe = pd.merge(df, df_count3, on=\"mouse_id\", how=\"left\")\n",
    "# # df_maybe = df_maybe.drop_duplicates()\n",
    "# print(df_maybe.shape)\n",
    "# # df_maybe[\"count\"].sum()"
   ]
  },
  {
   "cell_type": "code",
   "execution_count": 5,
   "metadata": {},
   "outputs": [],
   "source": [
    "# Getting the duplicate mice by ID number that shows up for Mouse ID and Timepoint.\n",
    "# counts = df.groupby([\"mouse_id\", \"timepoint\"]).rank()\n",
    "\n",
    "# df2 = df\n",
    "# df2[\"id_count\"] = counts[\"drug_regimen\"]\n",
    "# print(df2)\n",
    "\n",
    "# df.head()\n",
    "# df_rank = df.groupby([\"mouse_id\", \"timepoint\"]).count()\n",
    "# df_rank.head()\n",
    "# df_rank = df[\"drug_regimen\"].rank()\n",
    "# df_rank.head()\n",
    "\n",
    "\n",
    "# counts.head()\n",
    "# df.shape\n",
    "# df.head()"
   ]
  },
  {
   "cell_type": "code",
   "execution_count": 6,
   "metadata": {},
   "outputs": [],
   "source": [
    "# # get only the columns i need\n",
    "# df_count = df[[\"mouse_id\", \"timepoint\"]]\n",
    "# # print(df_count)\n",
    "# df_nodupes = df.drop_duplicates()\n",
    "# # print(df_nodupes.shape)\n",
    "\n",
    "# df_count3 = (\n",
    "#     df_count.groupby(by=[\"mouse_id\", \"timepoint\"])[\"mouse_id\"]\n",
    "#     .count()\n",
    "#     .reset_index(name=\"count\")\n",
    "# )\n",
    "# # print(df_count3)\n",
    "\n",
    "# df = df.drop_duplicates()\n",
    "\n",
    "# # print(df.shape)\n",
    "# # print(df_count3.shape)\n",
    "# # print(df_count3)\n",
    "# # print(df_count3[\"count\"].sum())\n",
    "\n",
    "# df_maybe = pd.merge(df_count3, df, on=\"mouse_id\", how=\"inner\")\n",
    "# # df_maybe = df_maybe.drop_duplicates()\n",
    "# # print(df_maybe.shape)\n",
    "# # print(df_maybe)\n",
    "# # df_maybe[\"count\"].sum()\n",
    "# # pd.set_option(\"display.max_rows\", 100)\n",
    "# # print(df_maybe.iloc[5346, :])\n",
    "# # df_maybe[df_maybe[\"mouse_id\"] == \"g989\"].sort_values(\n",
    "# #     by=[\"count\", \"timepoint_x\", \"tumor_volume_mm3\"]\n",
    "# # )\n",
    "# # df_maybe[df_maybe[\"count\"] > 1]\n",
    "# df_maybe[df_maybe[\"mouse_id\"] == \"g989\"].sort_values(by=\"timepoint_x\")"
   ]
  },
  {
   "cell_type": "code",
   "execution_count": 16,
   "metadata": {},
   "outputs": [
    {
     "data": {
      "text/html": [
       "<div>\n",
       "<style scoped>\n",
       "    .dataframe tbody tr th:only-of-type {\n",
       "        vertical-align: middle;\n",
       "    }\n",
       "\n",
       "    .dataframe tbody tr th {\n",
       "        vertical-align: top;\n",
       "    }\n",
       "\n",
       "    .dataframe thead th {\n",
       "        text-align: right;\n",
       "    }\n",
       "</style>\n",
       "<table border=\"1\" class=\"dataframe\">\n",
       "  <thead>\n",
       "    <tr style=\"text-align: right;\">\n",
       "      <th></th>\n",
       "      <th>mouse_id</th>\n",
       "      <th>drug_regimen</th>\n",
       "      <th>sex</th>\n",
       "      <th>age_months</th>\n",
       "      <th>weight_g</th>\n",
       "      <th>timepoint</th>\n",
       "      <th>tumor_volume_mm3</th>\n",
       "      <th>metastatic_sites</th>\n",
       "    </tr>\n",
       "  </thead>\n",
       "  <tbody>\n",
       "    <tr>\n",
       "      <th>908</th>\n",
       "      <td>g989</td>\n",
       "      <td>Propriva</td>\n",
       "      <td>Female</td>\n",
       "      <td>21</td>\n",
       "      <td>26</td>\n",
       "      <td>0</td>\n",
       "      <td>45.000000</td>\n",
       "      <td>0</td>\n",
       "    </tr>\n",
       "    <tr>\n",
       "      <th>910</th>\n",
       "      <td>g989</td>\n",
       "      <td>Propriva</td>\n",
       "      <td>Female</td>\n",
       "      <td>21</td>\n",
       "      <td>26</td>\n",
       "      <td>5</td>\n",
       "      <td>48.786801</td>\n",
       "      <td>0</td>\n",
       "    </tr>\n",
       "    <tr>\n",
       "      <th>911</th>\n",
       "      <td>g989</td>\n",
       "      <td>Propriva</td>\n",
       "      <td>Female</td>\n",
       "      <td>21</td>\n",
       "      <td>26</td>\n",
       "      <td>5</td>\n",
       "      <td>47.570392</td>\n",
       "      <td>0</td>\n",
       "    </tr>\n",
       "    <tr>\n",
       "      <th>912</th>\n",
       "      <td>g989</td>\n",
       "      <td>Propriva</td>\n",
       "      <td>Female</td>\n",
       "      <td>21</td>\n",
       "      <td>26</td>\n",
       "      <td>10</td>\n",
       "      <td>51.745156</td>\n",
       "      <td>0</td>\n",
       "    </tr>\n",
       "    <tr>\n",
       "      <th>913</th>\n",
       "      <td>g989</td>\n",
       "      <td>Propriva</td>\n",
       "      <td>Female</td>\n",
       "      <td>21</td>\n",
       "      <td>26</td>\n",
       "      <td>10</td>\n",
       "      <td>49.880528</td>\n",
       "      <td>0</td>\n",
       "    </tr>\n",
       "    <tr>\n",
       "      <th>914</th>\n",
       "      <td>g989</td>\n",
       "      <td>Propriva</td>\n",
       "      <td>Female</td>\n",
       "      <td>21</td>\n",
       "      <td>26</td>\n",
       "      <td>15</td>\n",
       "      <td>51.325852</td>\n",
       "      <td>1</td>\n",
       "    </tr>\n",
       "    <tr>\n",
       "      <th>915</th>\n",
       "      <td>g989</td>\n",
       "      <td>Propriva</td>\n",
       "      <td>Female</td>\n",
       "      <td>21</td>\n",
       "      <td>26</td>\n",
       "      <td>15</td>\n",
       "      <td>53.442020</td>\n",
       "      <td>0</td>\n",
       "    </tr>\n",
       "    <tr>\n",
       "      <th>916</th>\n",
       "      <td>g989</td>\n",
       "      <td>Propriva</td>\n",
       "      <td>Female</td>\n",
       "      <td>21</td>\n",
       "      <td>26</td>\n",
       "      <td>20</td>\n",
       "      <td>55.326122</td>\n",
       "      <td>1</td>\n",
       "    </tr>\n",
       "    <tr>\n",
       "      <th>917</th>\n",
       "      <td>g989</td>\n",
       "      <td>Propriva</td>\n",
       "      <td>Female</td>\n",
       "      <td>21</td>\n",
       "      <td>26</td>\n",
       "      <td>20</td>\n",
       "      <td>54.657650</td>\n",
       "      <td>1</td>\n",
       "    </tr>\n",
       "    <tr>\n",
       "      <th>918</th>\n",
       "      <td>g989</td>\n",
       "      <td>Propriva</td>\n",
       "      <td>Female</td>\n",
       "      <td>21</td>\n",
       "      <td>26</td>\n",
       "      <td>25</td>\n",
       "      <td>56.045564</td>\n",
       "      <td>1</td>\n",
       "    </tr>\n",
       "    <tr>\n",
       "      <th>919</th>\n",
       "      <td>g989</td>\n",
       "      <td>Propriva</td>\n",
       "      <td>Female</td>\n",
       "      <td>21</td>\n",
       "      <td>26</td>\n",
       "      <td>30</td>\n",
       "      <td>59.082294</td>\n",
       "      <td>1</td>\n",
       "    </tr>\n",
       "    <tr>\n",
       "      <th>920</th>\n",
       "      <td>g989</td>\n",
       "      <td>Propriva</td>\n",
       "      <td>Female</td>\n",
       "      <td>21</td>\n",
       "      <td>26</td>\n",
       "      <td>35</td>\n",
       "      <td>62.570880</td>\n",
       "      <td>2</td>\n",
       "    </tr>\n",
       "  </tbody>\n",
       "</table>\n",
       "</div>"
      ],
      "text/plain": [
       "    mouse_id drug_regimen     sex  age_months  weight_g  timepoint  \\\n",
       "908     g989     Propriva  Female          21        26          0   \n",
       "910     g989     Propriva  Female          21        26          5   \n",
       "911     g989     Propriva  Female          21        26          5   \n",
       "912     g989     Propriva  Female          21        26         10   \n",
       "913     g989     Propriva  Female          21        26         10   \n",
       "914     g989     Propriva  Female          21        26         15   \n",
       "915     g989     Propriva  Female          21        26         15   \n",
       "916     g989     Propriva  Female          21        26         20   \n",
       "917     g989     Propriva  Female          21        26         20   \n",
       "918     g989     Propriva  Female          21        26         25   \n",
       "919     g989     Propriva  Female          21        26         30   \n",
       "920     g989     Propriva  Female          21        26         35   \n",
       "\n",
       "     tumor_volume_mm3  metastatic_sites  \n",
       "908         45.000000                 0  \n",
       "910         48.786801                 0  \n",
       "911         47.570392                 0  \n",
       "912         51.745156                 0  \n",
       "913         49.880528                 0  \n",
       "914         51.325852                 1  \n",
       "915         53.442020                 0  \n",
       "916         55.326122                 1  \n",
       "917         54.657650                 1  \n",
       "918         56.045564                 1  \n",
       "919         59.082294                 1  \n",
       "920         62.570880                 2  "
      ]
     },
     "execution_count": 16,
     "metadata": {},
     "output_type": "execute_result"
    }
   ],
   "source": [
    "# Add a column with a count of 1 for every record\n",
    "\n",
    "# get only the columns i need\n",
    "df_min = df[[\"mouse_id\", \"timepoint\", \"drug_regimen\"]]\n",
    "\n",
    "df = df.drop_duplicates()\n",
    "\n",
    "df_min2 = df_min.groupby(by=[\"mouse_id\", \"timepoint\", \"drug_regimen\"])[\n",
    "    \"mouse_id\"\n",
    "].count()\n",
    "\n",
    "# df_count = df[[\"mouse_id\", \"timepoint\", \"drug_regimen\"]]\n",
    "# print(df_count)\n",
    "\n",
    "\n",
    "df_count3 = (\n",
    "    df_min.groupby(by=[\"mouse_id\", \"timepoint\", \"drug_regimen\"])[\"mouse_id\"]\n",
    "    .count()\n",
    "    .reset_index(name=\"count\")\n",
    ")\n",
    "# print(df_count3)\n",
    "\n",
    "# print(df.shape)\n",
    "print(df_count3.shape)\n",
    "# print(df_min2.shape)\n",
    "# # print(df_count3[\"count\"].sum())\n",
    "\n",
    "# pd.set_option(\"display.max_rows\", 100)\n",
    "\n",
    "# df_maybe = pd.merge(df_count3, df, on=\"mouse_id\", how=\"inner\")\n",
    "\n",
    "# # df_maybe[df_maybe[\"mouse_id\"] == \"g989\"].sort_values(by=\"timepoint_x\")\n",
    "# df[df[\"mouse_id\"] == \"g989\"].sort_values(by=\"timepoint\")\n",
    "\n",
    "# list of mice with duplicate values\n",
    "df_count3[df_count3[\"count\"] > 1].sort_values(by=\"timepoint\")\n",
    "\n",
    "# drop duplicate mice from main list\n",
    "df\n",
    "\n",
    "\n",
    "# df_maybe.shape"
   ]
  },
  {
   "cell_type": "code",
   "execution_count": null,
   "metadata": {},
   "outputs": [],
   "source": [
    "df"
   ]
  },
  {
   "cell_type": "code",
   "execution_count": null,
   "metadata": {},
   "outputs": [],
   "source": [
    "# Optional: Get all the data for the duplicate mouse ID."
   ]
  },
  {
   "cell_type": "code",
   "execution_count": null,
   "metadata": {},
   "outputs": [],
   "source": [
    "# Create a clean DataFrame by dropping the duplicate mouse by its ID."
   ]
  },
  {
   "cell_type": "code",
   "execution_count": null,
   "metadata": {},
   "outputs": [],
   "source": [
    "# Checking the number of mice in the clean DataFrame."
   ]
  },
  {
   "cell_type": "code",
   "execution_count": null,
   "metadata": {},
   "outputs": [],
   "source": [
    "df.head()\n",
    "\n",
    "df3 = df_count.groupby(by=[\"mouse_id\", \"timepoint\"]).sum()\n",
    "\n",
    "print(df.shape)\n",
    "print(df3.shape)"
   ]
  },
  {
   "cell_type": "markdown",
   "metadata": {},
   "source": [
    "## Summary Statistics"
   ]
  },
  {
   "cell_type": "code",
   "execution_count": null,
   "metadata": {},
   "outputs": [],
   "source": [
    "# Generate a summary statistics table of mean, median, variance, standard deviation, and SEM of the tumor volume for each regimen\n",
    "# This method is the most straighforward, creating multiple series and putting them all together at the end.\n",
    "\n",
    "\n",
    "# Get only the data I need for this\n",
    "df_regimen = df[[\"drug_regimen\", \"tumor_volume_mm3\"]]\n",
    "# print(df_regimen)\n",
    "\n",
    "# how many regimens? \n",
    "regimen_count = len(df_regimen[\"drug_regimen\"].unique())\n",
    "# print(f\"There are {regimen_count} regimens\")\n",
    "\n",
    "# get the mean\n",
    "regimen_mean = df_regimen.groupby(by = [\"drug_regimen\"]).mean()\n",
    "# print(regimen_mean.shape)\n",
    "\n",
    "# get the median\n",
    "regimen_median = df_regimen.groupby(by = [\"drug_regimen\"]).median()\n",
    "# print(regimen_median.shape)\n",
    "\n",
    "# get the variance\n",
    "regimen_variance = df_regimen.groupby(by = [\"drug_regimen\"]).var()\n",
    "# print(regimen_variance.shape)\n",
    "\n",
    "# get the standard deviation\n",
    "regimen_standdev = df_regimen.groupby(by = [\"drug_regimen\"]).std()\n",
    "# print(regimen_standdev.shape)\n",
    "\n",
    "# get the SEM\n",
    "regimen_sem = df_regimen.groupby(by = [\"drug_regimen\"]).sem()\n",
    "# print(regimen_sem.shape)\n",
    "\n",
    "##why am i getting this error? it worked just fine with HeroesOfPymoli\n",
    "# put them all together\n",
    "pd.DataFrame(\n",
    "    {\n",
    "        \"Mean\": regimen_mean,\n",
    "        \"Median\": regimen_median,\n",
    "        \"Variance\": regimen_variance,\n",
    "        \"Standard Deviation\": regimen_standdev,\n",
    "        \"SEM\": regimen_sem,\n",
    "    }\n",
    ")"
   ]
  },
  {
   "cell_type": "code",
   "execution_count": null,
   "metadata": {},
   "outputs": [],
   "source": [
    "# Generate a summary statistics table of mean, median, variance, standard deviation, and SEM of the tumor volume for each regimen\n",
    "# This method produces everything in a single groupby function\n",
    "\n",
    "# Get only the data I need for this\n",
    "##original\n",
    "df_regimen = df[[\"drug_regimen\", \"tumor_volume_mm3\"]]\n",
    "# print(df_regimen.dtypes)\n",
    "\n",
    "##attempt 1 to fix\n",
    "# df_regimen = df[[\"drug_regimen\", pd.to_numeric(\"tumor_volume_mm3\")]]\n",
    "# print(df_regimen.dtypes)\n",
    "\n",
    "##attempt 2 to fix\n",
    "# df_regimen = pd.to_numeric(df_regimen[\"tumor_volume_mm3\"])\n",
    "# print(df_regimen)\n",
    "\n",
    "##I need to convert the volumn to numeric I think, but how?\n",
    "# get the summary data\n",
    "regimen_summary = df_regimen.groupby(by = [\"drug_regimen\"]).mean().median().var().std().sem()\n",
    "\n",
    "# print(regimen_summary)\n"
   ]
  },
  {
   "cell_type": "code",
   "execution_count": null,
   "metadata": {},
   "outputs": [],
   "source": [
    "df.head()"
   ]
  },
  {
   "cell_type": "markdown",
   "metadata": {},
   "source": [
    "## Bar and Pie Charts"
   ]
  },
  {
   "cell_type": "code",
   "execution_count": null,
   "metadata": {},
   "outputs": [],
   "source": [
    "# Generate a bar plot showing the total number of mice for each treatment throughout the course of the study using pandas. \n",
    "\n"
   ]
  },
  {
   "cell_type": "code",
   "execution_count": null,
   "metadata": {},
   "outputs": [],
   "source": [
    "# Generate a bar plot showing the total number of mice for each treatment throughout the course of the study using pyplot.\n",
    "\n",
    "plt.hist(df[\"timepoint\"], df[\"timepoint\"])\n",
    "plt.showplot"
   ]
  },
  {
   "cell_type": "code",
   "execution_count": null,
   "metadata": {},
   "outputs": [],
   "source": [
    "# Generate a pie plot showing the distribution of female versus male mice using pandas\n",
    "\n"
   ]
  },
  {
   "cell_type": "code",
   "execution_count": null,
   "metadata": {},
   "outputs": [],
   "source": [
    "# Generate a pie plot showing the distribution of female versus male mice using pyplot\n",
    "\n"
   ]
  },
  {
   "cell_type": "markdown",
   "metadata": {},
   "source": [
    "## Quartiles, Outliers and Boxplots"
   ]
  },
  {
   "cell_type": "code",
   "execution_count": null,
   "metadata": {},
   "outputs": [],
   "source": [
    "# Calculate the final tumor volume of each mouse across four of the treatment regimens:  \n",
    "# Capomulin, Ramicane, Infubinol, and Ceftamin\n",
    "\n",
    "# Start by getting the last (greatest) timepoint for each mouse\n",
    "\n",
    "\n",
    "# Merge this group df with the original dataframe to get the tumor volume at the last timepoint\n"
   ]
  },
  {
   "cell_type": "code",
   "execution_count": null,
   "metadata": {},
   "outputs": [],
   "source": [
    "# Put treatments into a list for for loop (and later for plot labels)\n",
    "\n",
    "\n",
    "# Create empty list to fill with tumor vol data (for plotting)\n",
    "\n",
    "\n",
    "# Calculate the IQR and quantitatively determine if there are any potential outliers. \n",
    "\n",
    "    \n",
    "    # Locate the rows which contain mice on each drug and get the tumor volumes\n",
    "    \n",
    "    \n",
    "    # add subset \n",
    "    \n",
    "    \n",
    "    # Determine outliers using upper and lower bounds\n",
    "    "
   ]
  },
  {
   "cell_type": "code",
   "execution_count": null,
   "metadata": {},
   "outputs": [],
   "source": [
    "# Generate a box plot of the final tumor volume of each mouse across four regimens of interest\n"
   ]
  },
  {
   "cell_type": "markdown",
   "metadata": {},
   "source": [
    "## Line and Scatter Plots"
   ]
  },
  {
   "cell_type": "code",
   "execution_count": null,
   "metadata": {},
   "outputs": [],
   "source": [
    "# Generate a line plot of time point versus tumor volume for a mouse treated with Capomulin\n",
    "\n",
    "plt.plot(df[\"timepoint\"], df[\"tumor_volume_mm3\"])\n",
    "plt.show"
   ]
  },
  {
   "cell_type": "code",
   "execution_count": null,
   "metadata": {},
   "outputs": [],
   "source": [
    "# Generate a scatter plot of mouse weight versus average tumor volume for the Capomulin regimen\n"
   ]
  },
  {
   "cell_type": "markdown",
   "metadata": {},
   "source": [
    "## Correlation and Regression"
   ]
  },
  {
   "cell_type": "code",
   "execution_count": null,
   "metadata": {},
   "outputs": [],
   "source": [
    "# Calculate the correlation coefficient and linear regression model \n",
    "# for mouse weight and average tumor volume for the Capomulin regimen\n"
   ]
  },
  {
   "cell_type": "code",
   "execution_count": null,
   "metadata": {},
   "outputs": [],
   "source": []
  }
 ],
 "metadata": {
  "anaconda-cloud": {},
  "environment": {
   "name": "common-cpu.m54",
   "type": "gcloud",
   "uri": "gcr.io/deeplearning-platform-release/base-cpu:m54"
  },
  "kernelspec": {
   "display_name": "Python 3",
   "language": "python",
   "name": "python3"
  },
  "language_info": {
   "codemirror_mode": {
    "name": "ipython",
    "version": 3
   },
   "file_extension": ".py",
   "mimetype": "text/x-python",
   "name": "python",
   "nbconvert_exporter": "python",
   "pygments_lexer": "ipython3",
   "version": "3.7.8"
  }
 },
 "nbformat": 4,
 "nbformat_minor": 4
}
